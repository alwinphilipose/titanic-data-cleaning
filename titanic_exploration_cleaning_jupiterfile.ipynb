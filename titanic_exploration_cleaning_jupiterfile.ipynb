{
 "cells": [
  {
   "cell_type": "markdown",
   "id": "480bf326",
   "metadata": {},
   "source": [
    "# Titanic Data Cleaning\n",
    "\n",
    "This notebook performs data exploration and cleaning on the Titanic dataset using Python. The goal is to prepare the data for further analysis or modeling."
   ]
  },
  {
   "cell_type": "code",
   "execution_count": 4,
   "id": "b7a281b2",
   "metadata": {},
   "outputs": [],
   "source": [
    "import pandas as pd\n",
    "import numpy as np\n",
    "import matplotlib.pyplot as plt"
   ]
  },
  {
   "cell_type": "markdown",
   "id": "be66fa20",
   "metadata": {},
   "source": [
    "## Load Dataset"
   ]
  },
  {
   "cell_type": "code",
   "execution_count": 5,
   "id": "91903969",
   "metadata": {},
   "outputs": [
    {
     "name": "stdout",
     "output_type": "stream",
     "text": [
      "Initial Data Preview:\n",
      "   PassengerId  Survived  Pclass  \\\n",
      "0            1         0       3   \n",
      "1            2         1       1   \n",
      "2            3         1       3   \n",
      "3            4         1       1   \n",
      "4            5         0       3   \n",
      "\n",
      "                                                Name     Sex   Age  SibSp  \\\n",
      "0                            Braund, Mr. Owen Harris    male  22.0      1   \n",
      "1  Cumings, Mrs. John Bradley (Florence Briggs Th...  female  38.0      1   \n",
      "2                             Heikkinen, Miss. Laina  female  26.0      0   \n",
      "3       Futrelle, Mrs. Jacques Heath (Lily May Peel)  female  35.0      1   \n",
      "4                           Allen, Mr. William Henry    male  35.0      0   \n",
      "\n",
      "   Parch            Ticket     Fare Cabin Embarked  \n",
      "0      0         A/5 21171   7.2500   NaN        S  \n",
      "1      0          PC 17599  71.2833   C85        C  \n",
      "2      0  STON/O2. 3101282   7.9250   NaN        S  \n",
      "3      0            113803  53.1000  C123        S  \n",
      "4      0            373450   8.0500   NaN        S  \n"
     ]
    }
   ],
   "source": [
    "# Load the dataset (update the path if needed)\n",
    "df = pd.read_csv(r\"C:\\Users\\Alwin\\Documents\\Dataset for Data Analysis\\titanic\\train.csv\")\n",
    "\n",
    "# Show initial records\n",
    "print(\"Initial Data Preview:\")\n",
    "print(df.head())"
   ]
  },
  {
   "cell_type": "markdown",
   "id": "9abe481a",
   "metadata": {},
   "source": [
    "## Summary Statistics and Data Types"
   ]
  },
  {
   "cell_type": "code",
   "execution_count": 6,
   "id": "ef19e58e",
   "metadata": {},
   "outputs": [
    {
     "name": "stdout",
     "output_type": "stream",
     "text": [
      "\n",
      "Summary statistics:\n",
      "        PassengerId    Survived      Pclass                     Name   Sex  \\\n",
      "count    891.000000  891.000000  891.000000                      891   891   \n",
      "unique          NaN         NaN         NaN                      891     2   \n",
      "top             NaN         NaN         NaN  Braund, Mr. Owen Harris  male   \n",
      "freq            NaN         NaN         NaN                        1   577   \n",
      "mean     446.000000    0.383838    2.308642                      NaN   NaN   \n",
      "std      257.353842    0.486592    0.836071                      NaN   NaN   \n",
      "min        1.000000    0.000000    1.000000                      NaN   NaN   \n",
      "25%      223.500000    0.000000    2.000000                      NaN   NaN   \n",
      "50%      446.000000    0.000000    3.000000                      NaN   NaN   \n",
      "75%      668.500000    1.000000    3.000000                      NaN   NaN   \n",
      "max      891.000000    1.000000    3.000000                      NaN   NaN   \n",
      "\n",
      "               Age       SibSp       Parch  Ticket        Fare    Cabin  \\\n",
      "count   714.000000  891.000000  891.000000     891  891.000000      204   \n",
      "unique         NaN         NaN         NaN     681         NaN      147   \n",
      "top            NaN         NaN         NaN  347082         NaN  B96 B98   \n",
      "freq           NaN         NaN         NaN       7         NaN        4   \n",
      "mean     29.699118    0.523008    0.381594     NaN   32.204208      NaN   \n",
      "std      14.526497    1.102743    0.806057     NaN   49.693429      NaN   \n",
      "min       0.420000    0.000000    0.000000     NaN    0.000000      NaN   \n",
      "25%      20.125000    0.000000    0.000000     NaN    7.910400      NaN   \n",
      "50%      28.000000    0.000000    0.000000     NaN   14.454200      NaN   \n",
      "75%      38.000000    1.000000    0.000000     NaN   31.000000      NaN   \n",
      "max      80.000000    8.000000    6.000000     NaN  512.329200      NaN   \n",
      "\n",
      "       Embarked  \n",
      "count       889  \n",
      "unique        3  \n",
      "top           S  \n",
      "freq        644  \n",
      "mean        NaN  \n",
      "std         NaN  \n",
      "min         NaN  \n",
      "25%         NaN  \n",
      "50%         NaN  \n",
      "75%         NaN  \n",
      "max         NaN  \n",
      "                           Name   Sex  Ticket    Cabin Embarked\n",
      "count                       891   891     891      204      889\n",
      "unique                      891     2     681      147        3\n",
      "top     Braund, Mr. Owen Harris  male  347082  B96 B98        S\n",
      "freq                          1   577       7        4      644\n",
      "\n",
      "Data types:\n",
      "PassengerId      int64\n",
      "Survived         int64\n",
      "Pclass           int64\n",
      "Name            object\n",
      "Sex             object\n",
      "Age            float64\n",
      "SibSp            int64\n",
      "Parch            int64\n",
      "Ticket          object\n",
      "Fare           float64\n",
      "Cabin           object\n",
      "Embarked        object\n",
      "dtype: object\n"
     ]
    }
   ],
   "source": [
    "print(\"\\nSummary statistics:\")\n",
    "print(df.describe(include='all'))\n",
    "\n",
    "categorical = df.dtypes[df.dtypes == \"object\"].index\n",
    "print(df[categorical].describe())\n",
    "\n",
    "print(\"\\nData types:\")\n",
    "print(df.dtypes)"
   ]
  },
  {
   "cell_type": "markdown",
   "id": "4cbd2d57",
   "metadata": {},
   "source": [
    "## Drop Unnecessary Columns"
   ]
  },
  {
   "cell_type": "code",
   "execution_count": 7,
   "id": "da905033",
   "metadata": {},
   "outputs": [
    {
     "name": "stdout",
     "output_type": "stream",
     "text": [
      "Dropped 'PassengerId' column.\n"
     ]
    }
   ],
   "source": [
    "del df[\"PassengerId\"]\n",
    "print(\"Dropped 'PassengerId' column.\")"
   ]
  },
  {
   "cell_type": "markdown",
   "id": "f546916a",
   "metadata": {},
   "source": [
    "## Convert 'Survived' Column to Categorical"
   ]
  },
  {
   "cell_type": "code",
   "execution_count": 8,
   "id": "8f193e93",
   "metadata": {},
   "outputs": [
    {
     "name": "stdout",
     "output_type": "stream",
     "text": [
      "Died        549\n",
      "Survived    342\n",
      "Name: Survived, dtype: int64\n"
     ]
    }
   ],
   "source": [
    "df[\"Survived\"] = pd.Categorical(df[\"Survived\"]).rename_categories([\"Died\", \"Survived\"])\n",
    "print(df[\"Survived\"].value_counts())"
   ]
  },
  {
   "cell_type": "markdown",
   "id": "08411d2b",
   "metadata": {},
   "source": [
    "## Transform 'Cabin' Column"
   ]
  },
  {
   "cell_type": "code",
   "execution_count": 9,
   "id": "9cea283a",
   "metadata": {},
   "outputs": [
    {
     "name": "stdout",
     "output_type": "stream",
     "text": [
      "n    687\n",
      "C     59\n",
      "B     47\n",
      "D     33\n",
      "E     32\n",
      "A     15\n",
      "F     13\n",
      "G      4\n",
      "T      1\n",
      "Name: Cabin, dtype: int64\n"
     ]
    }
   ],
   "source": [
    "char_Cabin = df[\"Cabin\"].astype(str)\n",
    "df[\"Cabin\"] = pd.Categorical([cabin[0] for cabin in char_Cabin])\n",
    "print(df[\"Cabin\"].value_counts())"
   ]
  },
  {
   "cell_type": "markdown",
   "id": "11af20e4",
   "metadata": {},
   "source": [
    "## Handle Missing Values"
   ]
  },
  {
   "cell_type": "code",
   "execution_count": 10,
   "id": "395889af",
   "metadata": {},
   "outputs": [
    {
     "name": "stdout",
     "output_type": "stream",
     "text": [
      "Filled missing 'Age' with median: 28.0\n",
      "Filled missing 'Embarked' with mode: S\n"
     ]
    }
   ],
   "source": [
    "# Age: Fill with median\n",
    "median_age = df[\"Age\"].median()\n",
    "df[\"Age\"] = np.where(df[\"Age\"].isnull(), median_age, df[\"Age\"])\n",
    "print(f\"Filled missing 'Age' with median: {median_age}\")\n",
    "\n",
    "# Embarked: Fill with mode\n",
    "mode_embarked = df[\"Embarked\"].mode()[0]\n",
    "df[\"Embarked\"] = np.where(df[\"Embarked\"].isnull(), mode_embarked, df[\"Embarked\"])\n",
    "print(f\"Filled missing 'Embarked' with mode: {mode_embarked}\")"
   ]
  },
  {
   "cell_type": "markdown",
   "id": "90e65c3d",
   "metadata": {},
   "source": [
    "## Drop Columns with Too Many Missing Values"
   ]
  },
  {
   "cell_type": "code",
   "execution_count": 11,
   "id": "12382208",
   "metadata": {},
   "outputs": [
    {
     "name": "stdout",
     "output_type": "stream",
     "text": [
      "Dropped columns: []\n"
     ]
    }
   ],
   "source": [
    "missing_fraction = df.isnull().mean()\n",
    "columns_to_drop = missing_fraction[missing_fraction > 0.5].index\n",
    "df.drop(columns=columns_to_drop, inplace=True)\n",
    "print(f\"Dropped columns: {list(columns_to_drop)}\")"
   ]
  },
  {
   "cell_type": "markdown",
   "id": "42fbea0d",
   "metadata": {},
   "source": [
    "## Encode 'Sex' and Create 'FamilySize'"
   ]
  },
  {
   "cell_type": "code",
   "execution_count": 12,
   "id": "a45ad4ac",
   "metadata": {},
   "outputs": [
    {
     "name": "stdout",
     "output_type": "stream",
     "text": [
      "Added 'FamilySize' feature.\n"
     ]
    }
   ],
   "source": [
    "df = pd.get_dummies(df, columns=['Sex'], drop_first=True)\n",
    "df['FamilySize'] = df['SibSp'] + df['Parch']\n",
    "print(\"Added 'FamilySize' feature.\")"
   ]
  },
  {
   "cell_type": "markdown",
   "id": "6cdc4ac2",
   "metadata": {},
   "source": [
    "## Outlier Detection and Cleaning"
   ]
  },
  {
   "cell_type": "code",
   "execution_count": 13,
   "id": "90893cb3",
   "metadata": {},
   "outputs": [
    {
     "data": {
      "image/png": "[encoded data removed]",
      "text/plain": [
       "<Figure size 648x648 with 1 Axes>"
      ]
     },
     "metadata": {
      "needs_background": "light"
     },
     "output_type": "display_data"
    },
    {
     "name": "stdout",
     "output_type": "stream",
     "text": [
      "Removed max fare and flagged outliers in Fare column.\n"
     ]
    }
   ],
   "source": [
    "df[\"Fare\"].plot(kind=\"box\", figsize=(9, 9))\n",
    "plt.title(\"Boxplot of Fare\")\n",
    "plt.ylabel(\"Fare\")\n",
    "plt.show()\n",
    "\n",
    "df = df[df[\"Fare\"] != df[\"Fare\"].max()]\n",
    "df['Fare_outlier'] = np.where(df['Fare'] > 100, 1, 0)\n",
    "print(\"Removed max fare and flagged outliers in Fare column.\")"
   ]
  },
  {
   "cell_type": "markdown",
   "id": "4d927dec",
   "metadata": {},
   "source": [
    "## Save Cleaned Data"
   ]
  },
  {
   "cell_type": "code",
   "execution_count": 14,
   "id": "8cc51610",
   "metadata": {},
   "outputs": [
    {
     "name": "stdout",
     "output_type": "stream",
     "text": [
      "Saved cleaned dataset to 'titanic_cleaned.csv'\n"
     ]
    }
   ],
   "source": [
    "df.to_csv(\"titanic_cleaned.csv\", index=False)\n",
    "print(\"Saved cleaned dataset to 'titanic_cleaned.csv'\")"
   ]
  }
 ],
 "metadata": {
  "kernelspec": {
   "display_name": "base",
   "language": "python",
   "name": "python3"
  },
  "language_info": {
   "codemirror_mode": {
    "name": "ipython",
    "version": 3
   },
   "file_extension": ".py",
   "mimetype": "text/x-python",
   "name": "python",
   "nbconvert_exporter": "python",
   "pygments_lexer": "ipython3",
   "version": "3.9.12"
  }
 },
 "nbformat": 4,
 "nbformat_minor": 5
}
